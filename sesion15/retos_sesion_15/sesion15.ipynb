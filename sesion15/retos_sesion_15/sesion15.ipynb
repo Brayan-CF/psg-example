{
 "cells": [
  {
   "cell_type": "markdown",
   "metadata": {},
   "source": [
    "### Sesion 15\n",
    "\n",
    "#### Errores y Exepciones\n",
    "\n",
    "#### Try - Except\n",
    "\n",
    "---"
   ]
  },
  {
   "cell_type": "markdown",
   "metadata": {},
   "source": [
    "> Ejemplo 1, división por cero"
   ]
  },
  {
   "cell_type": "code",
   "execution_count": 1,
   "metadata": {},
   "outputs": [
    {
     "name": "stdout",
     "output_type": "stream",
     "text": [
      "Inicio Ejemplo 1\n"
     ]
    },
    {
     "ename": "ZeroDivisionError",
     "evalue": "division by zero",
     "output_type": "error",
     "traceback": [
      "\u001b[0;31m---------------------------------------------------------------------------\u001b[0m",
      "\u001b[0;31mZeroDivisionError\u001b[0m                         Traceback (most recent call last)",
      "Cell \u001b[0;32mIn[1], line 2\u001b[0m\n\u001b[1;32m      1\u001b[0m \u001b[38;5;28mprint\u001b[39m (\u001b[38;5;124m\"\u001b[39m\u001b[38;5;124mInicio Ejemplo 1\u001b[39m\u001b[38;5;124m\"\u001b[39m)\n\u001b[0;32m----> 2\u001b[0m x \u001b[38;5;241m=\u001b[39m \u001b[38;5;241;43m1\u001b[39;49m\u001b[43m \u001b[49m\u001b[38;5;241;43m/\u001b[39;49m\u001b[43m \u001b[49m\u001b[38;5;241;43m0\u001b[39;49m\n\u001b[1;32m      3\u001b[0m \u001b[38;5;28mprint\u001b[39m (x)\n\u001b[1;32m      4\u001b[0m \u001b[38;5;28mprint\u001b[39m (\u001b[38;5;124m\"\u001b[39m\u001b[38;5;124mFin Ejemplo 1\u001b[39m\u001b[38;5;124m\"\u001b[39m)\n",
      "\u001b[0;31mZeroDivisionError\u001b[0m: division by zero"
     ]
    }
   ],
   "source": [
    "print (\"Inicio Ejemplo 1\")\n",
    "x = 1 / 0\n",
    "print (x)\n",
    "print (\"Fin Ejemplo 1\")"
   ]
  },
  {
   "cell_type": "markdown",
   "metadata": {},
   "source": [
    "> Ejemplo 1, División por cero> "
   ]
  },
  {
   "cell_type": "code",
   "execution_count": 2,
   "metadata": {},
   "outputs": [
    {
     "name": "stdout",
     "output_type": "stream",
     "text": [
      "Inicio Ejemplo 1\n",
      "💀 Error: division by zero <class 'ZeroDivisionError'>\n",
      "Fin Ejemplo 1\n"
     ]
    }
   ],
   "source": [
    "print (\"Inicio Ejemplo 1\")\n",
    "try:\n",
    "    x = 1 / 0\n",
    "    print (x)\n",
    "except Exception as e:\n",
    "    print(\"💀 Error:\", e, type(e))\n",
    "print (\"Fin Ejemplo 1\")"
   ]
  },
  {
   "cell_type": "markdown",
   "metadata": {},
   "source": [
    "---\n",
    "#### Try"
   ]
  },
  {
   "cell_type": "code",
   "execution_count": null,
   "metadata": {},
   "outputs": [],
   "source": [
    "'''\n",
    "try:\n",
    "    # Código que puede lanzar una excepción\n",
    "except ZeroDivisionError as e:\n",
    "    # Código si se produce una excepción de división por cero\n",
    "except Exception as e:\n",
    "    # Código si se produce una excepción genérica\n",
    "'''"
   ]
  },
  {
   "cell_type": "markdown",
   "metadata": {},
   "source": [
    "> Ejemplo 2, división por cero"
   ]
  },
  {
   "cell_type": "code",
   "execution_count": 3,
   "metadata": {},
   "outputs": [
    {
     "name": "stdout",
     "output_type": "stream",
     "text": [
      "Inicio Ejemplo 2\n",
      "0️⃣ Error: division by zero <class 'ZeroDivisionError'>\n",
      "Fin Ejemplo 2\n"
     ]
    }
   ],
   "source": [
    "print (\"Inicio Ejemplo 2\")\n",
    "divisor = 0\n",
    "try:\n",
    "    x = 1 / divisor\n",
    "    print (x)\n",
    "except ZeroDivisionError as e:\n",
    "    print(\"0️⃣ Error:\", e, type(e))\n",
    "except Exception as e:\n",
    "    print(\"💀 Error:\", e, type(e))\n",
    "print (\"Fin Ejemplo 2\")"
   ]
  },
  {
   "cell_type": "markdown",
   "metadata": {},
   "source": [
    "> Ejemplo 2, división por cero"
   ]
  },
  {
   "cell_type": "code",
   "execution_count": 4,
   "metadata": {},
   "outputs": [
    {
     "name": "stdout",
     "output_type": "stream",
     "text": [
      "Inicio Ejemplo 2\n",
      "💀 Error: unsupported operand type(s) for /: 'int' and 'str' <class 'TypeError'>\n",
      "Fin Ejemplo 2\n"
     ]
    }
   ],
   "source": [
    "print (\"Inicio Ejemplo 2\")\n",
    "divisor = \"0\"\n",
    "try:\n",
    "    x = 1 / divisor\n",
    "    print (x)\n",
    "except ZeroDivisionError as e:\n",
    "    print(\"0️⃣ Error:\", e, type(e))\n",
    "except Exception as e:\n",
    "    print(\"💀 Error:\", e, type(e))\n",
    "print (\"Fin Ejemplo 2\")"
   ]
  },
  {
   "cell_type": "markdown",
   "metadata": {},
   "source": [
    "---\n",
    "#### Jerarquia de Excepciones\n",
    "\n",
    "> Ejemplo 2, división por cero"
   ]
  },
  {
   "cell_type": "code",
   "execution_count": 5,
   "metadata": {},
   "outputs": [
    {
     "name": "stdout",
     "output_type": "stream",
     "text": [
      "Inicio Ejemplo 2\n",
      "💀 Error: division by zero <class 'ZeroDivisionError'>\n",
      "Fin Ejemplo 2\n"
     ]
    }
   ],
   "source": [
    "print (\"Inicio Ejemplo 2\")\n",
    "divisor = 0\n",
    "try:\n",
    "    x = 1 / divisor\n",
    "    print (x)\n",
    "except Exception as e: # Captura cualquier excepción\n",
    "    print(\"💀 Error:\", e, type(e))\n",
    "except ZeroDivisionError as e:\n",
    "    print(\"0️⃣ Error:\", e, type(e))\n",
    "print (\"Fin Ejemplo 2\")"
   ]
  },
  {
   "cell_type": "markdown",
   "metadata": {},
   "source": [
    "> Ejemplo 3, de la lista de calificaciones obtener el promedio"
   ]
  },
  {
   "cell_type": "code",
   "execution_count": 6,
   "metadata": {},
   "outputs": [
    {
     "name": "stdout",
     "output_type": "stream",
     "text": [
      "🎭 Error: unsupported operand type(s) for +=: 'int' and 'str' <class 'TypeError'>\n"
     ]
    }
   ],
   "source": [
    "calificaciones = [20,40,80,\"A\"]\n",
    "suma = 0\n",
    "try:\n",
    "    for i in range(len(calificaciones)+1):\n",
    "        suma += calificaciones[i] \n",
    "    promedio = suma / len(calificaciones)\n",
    "    print(\"Promedio:\", promedio)\n",
    "except ZeroDivisionError as e:\n",
    "    print(\"0️⃣ Error:\", e, type(e))\n",
    "except TypeError as e:\n",
    "    print(\"🎭 Error:\", e, type(e))\n",
    "except Exception as e:\n",
    "    print(\"💀 Error:\", e, type(e))"
   ]
  },
  {
   "cell_type": "markdown",
   "metadata": {},
   "source": [
    "> Ejemplo 3, de la lista de calificaciones obtener el promedio"
   ]
  },
  {
   "cell_type": "code",
   "execution_count": 7,
   "metadata": {},
   "outputs": [
    {
     "name": "stdout",
     "output_type": "stream",
     "text": [
      "💀 Error: list index out of range <class 'IndexError'>\n"
     ]
    }
   ],
   "source": [
    "calificaciones = [20,40,80]\n",
    "suma = 0\n",
    "try:\n",
    "    for i in range(len(calificaciones)+1):\n",
    "        suma += calificaciones[i]\n",
    "    promedio = suma / len(calificaciones)\n",
    "    print(\"Promedio:\", promedio)\n",
    "except ZeroDivisionError as e:\n",
    "    print(\"0️⃣ Error:\", e, type(e))\n",
    "except TypeError as e:\n",
    "    print(\"🎭 Error:\", e, type(e))\n",
    "except Exception as e: # Captura cualquier excepción\n",
    "    print(\"💀 Error:\", e, type(e))"
   ]
  }
 ],
 "metadata": {
  "kernelspec": {
   "display_name": "env",
   "language": "python",
   "name": "python3"
  },
  "language_info": {
   "codemirror_mode": {
    "name": "ipython",
    "version": 3
   },
   "file_extension": ".py",
   "mimetype": "text/x-python",
   "name": "python",
   "nbconvert_exporter": "python",
   "pygments_lexer": "ipython3",
   "version": "3.13.1"
  }
 },
 "nbformat": 4,
 "nbformat_minor": 2
}
