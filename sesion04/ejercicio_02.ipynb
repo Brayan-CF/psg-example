{
 "cells": [
  {
   "cell_type": "markdown",
   "metadata": {},
   "source": [
    "# Creacion de imagen cualquiera\n",
    "## usando simbolos: * - , () \\ | / _ \" ' = C"
   ]
  },
  {
   "cell_type": "code",
   "execution_count": 5,
   "metadata": {},
   "outputs": [
    {
     "name": "stdout",
     "output_type": "stream",
     "text": [
      " ---(,)---c \n",
      "   C ___C  \n",
      "    |- -|   \n",
      "    |___|   \n",
      "   ()'''()c \n"
     ]
    }
   ],
   "source": [
    "print(\" ---(,)---c \")\n",
    "print(\"   C ___C  \")\n",
    "print(\"    |- -|   \")\n",
    "print(\"    |___|   \")\n",
    "print(\"   ()'''()c \")"
   ]
  }
 ],
 "metadata": {
  "kernelspec": {
   "display_name": ".venv",
   "language": "python",
   "name": "python3"
  },
  "language_info": {
   "codemirror_mode": {
    "name": "ipython",
    "version": 3
   },
   "file_extension": ".py",
   "mimetype": "text/x-python",
   "name": "python",
   "nbconvert_exporter": "python",
   "pygments_lexer": "ipython3",
   "version": "3.12.3"
  }
 },
 "nbformat": 4,
 "nbformat_minor": 2
}
