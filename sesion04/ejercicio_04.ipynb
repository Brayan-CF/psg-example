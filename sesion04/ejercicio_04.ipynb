{
 "cells": [
  {
   "cell_type": "markdown",
   "metadata": {},
   "source": [
    "# Serpiente y manzana\n",
    "## Descricion:\n",
    " Es un juego dentro de un cuadro, donde hay una serviente el cual \n",
    " come manzanas y mintras mas manzanas come esta se vuelve mas grande\n",
    " al punto de **llenar todo el cuadro**. \n",
    "## Reglas:\n",
    "1. No chocar con los obstaculos que existen dentro del recuadro.\n",
    "2. No automorderse, solo debemos comer manzanas.\n",
    "3. Si te puerdes automaticamnte pierdes el juego.\n",
    "\n"
   ]
  },
  {
   "cell_type": "code",
   "execution_count": 3,
   "metadata": {},
   "outputs": [
    {
     "name": "stdout",
     "output_type": "stream",
     "text": [
      "||--------------||\n",
      "||--------------||\n",
      "||              ||\n",
      "||    *         ||\n",
      "||  _       _   ||\n",
      "||              ||\n",
      "||        *     ||\n",
      "|| *            ||\n",
      "||--------------||\n",
      "||--------------||\n"
     ]
    }
   ],
   "source": [
    "print(\"||--------------||\")\n",
    "print(\"||--------------||\")\n",
    "print(\"||              ||\")\n",
    "print(\"||    *         ||\")\n",
    "print(\"||  _       _   ||\")\n",
    "print(\"||              ||\")\n",
    "print(\"||        *     ||\")\n",
    "print(\"|| *            ||\")\n",
    "print(\"||--------------||\")\n",
    "print(\"||--------------||\")"
   ]
  },
  {
   "cell_type": "markdown",
   "metadata": {},
   "source": [
    "## Piezas:\n",
    "> Las piezas que tinenos en recuadro son los **\" * \"**, que representas \n",
    "> las manzana y los **\" _ \"**, son obstaculos, los cuales provocan daños."
   ]
  },
  {
   "cell_type": "code",
   "execution_count": 4,
   "metadata": {},
   "outputs": [
    {
     "name": "stdout",
     "output_type": "stream",
     "text": [
      "    *****     \n",
      "   *     *    \n",
      "  *       *   \n",
      " *         *  \n",
      "  *       *   \n",
      "   *     *    \n",
      "    *****     \n"
     ]
    }
   ],
   "source": [
    "print(\"    *****     \")\n",
    "print(\"   *     *    \")\n",
    "print(\"  *       *   \")\n",
    "print(\" *         *  \")\n",
    "print(\"  *       *   \")\n",
    "print(\"   *     *    \")\n",
    "print(\"    *****     \") "
   ]
  }
 ],
 "metadata": {
  "kernelspec": {
   "display_name": ".venv",
   "language": "python",
   "name": "python3"
  },
  "language_info": {
   "codemirror_mode": {
    "name": "ipython",
    "version": 3
   },
   "file_extension": ".py",
   "mimetype": "text/x-python",
   "name": "python",
   "nbconvert_exporter": "python",
   "pygments_lexer": "ipython3",
   "version": "3.12.3"
  }
 },
 "nbformat": 4,
 "nbformat_minor": 2
}
