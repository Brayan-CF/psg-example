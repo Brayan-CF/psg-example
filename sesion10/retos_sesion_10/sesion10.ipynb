{
 "cells": [
  {
   "cell_type": "markdown",
   "metadata": {},
   "source": [
    "---\n",
    "# ESTRUCTURA DE DATOS\n",
    "\n",
    "### Confuntos: **no ordenados, no indexados, no duplicados**\n",
    "---"
   ]
  },
  {
   "cell_type": "markdown",
   "metadata": {},
   "source": [
    "#### mutables "
   ]
  },
  {
   "cell_type": "code",
   "execution_count": 4,
   "metadata": {},
   "outputs": [
    {
     "name": "stdout",
     "output_type": "stream",
     "text": [
      "{'🍕', '🌭', '🍔', '🍟'}\n",
      "{'🍕', '🌭', '🍔', '🥗', '🍟'}\n"
     ]
    }
   ],
   "source": [
    "conjunto = {'🍕','🍔','🍟','🌭'}\n",
    "print(conjunto) # {'🍔', '🌭', '🍕', '🍟'}\n",
    "conjunto.add('🥗')\n",
    "print(conjunto)  # {'🍔', '🍕', '🥗', '🍟', '🌭'}"
   ]
  },
  {
   "cell_type": "markdown",
   "metadata": {},
   "source": [
    "---\n",
    "#### no ordenados"
   ]
  },
  {
   "cell_type": "code",
   "execution_count": 5,
   "metadata": {},
   "outputs": [
    {
     "name": "stdout",
     "output_type": "stream",
     "text": [
      "{'🍕', '🌭', '🍔', '🍟'}\n"
     ]
    }
   ],
   "source": [
    "conjunto = {'🍕','🍔','🍟','🌭'}\n",
    "print(conjunto) # {'🍔', '🌭', '🍕', '🍟'}"
   ]
  },
  {
   "cell_type": "markdown",
   "metadata": {},
   "source": [
    "---\n",
    "#### no indexados\n"
   ]
  },
  {
   "cell_type": "code",
   "execution_count": 6,
   "metadata": {},
   "outputs": [],
   "source": [
    "conjunto = {'🍕','🍔','🍟','🌭'}\n",
    "# print(conjunto[0]) # TypeError: 'set' object is not subscriptable'"
   ]
  },
  {
   "cell_type": "markdown",
   "metadata": {},
   "source": [
    "---\n",
    "#### no duplicados"
   ]
  },
  {
   "cell_type": "code",
   "execution_count": 7,
   "metadata": {},
   "outputs": [
    {
     "name": "stdout",
     "output_type": "stream",
     "text": [
      "{'🍕', '🌭', '🍔', '🍟'}\n"
     ]
    }
   ],
   "source": [
    "conjunto = {'🍕','🍔','🍟','🌭','🍕','🍟'}\n",
    "print(conjunto) # {'🍕', '🍟', '🌭', '🍔'}"
   ]
  },
  {
   "cell_type": "markdown",
   "metadata": {},
   "source": [
    "--- \n",
    "### Declaracion de un conjunto, {} o set()"
   ]
  },
  {
   "cell_type": "code",
   "execution_count": 8,
   "metadata": {},
   "outputs": [
    {
     "data": {
      "text/plain": [
       "'mi_conjunto = {elemento1, elemento2, elemento3, ...}'"
      ]
     },
     "execution_count": 8,
     "metadata": {},
     "output_type": "execute_result"
    }
   ],
   "source": [
    "'''mi_conjunto = {elemento1, elemento2, elemento3, ...}'''"
   ]
  },
  {
   "cell_type": "markdown",
   "metadata": {},
   "source": [
    "#### conjunto de enteros"
   ]
  },
  {
   "cell_type": "code",
   "execution_count": 9,
   "metadata": {},
   "outputs": [
    {
     "name": "stdout",
     "output_type": "stream",
     "text": [
      "Conjunto de enteros\n",
      "{1, 2, 3, 4, 5}\n",
      "<class 'set'>\n"
     ]
    }
   ],
   "source": [
    "print (\"Conjunto de enteros\")\n",
    "conjunto = {1, 2, 3, 4, 5}\n",
    "print(conjunto) \n",
    "print(type(conjunto))"
   ]
  },
  {
   "cell_type": "markdown",
   "metadata": {},
   "source": [
    "#### conjunto de cadenas"
   ]
  },
  {
   "cell_type": "code",
   "execution_count": 10,
   "metadata": {},
   "outputs": [
    {
     "name": "stdout",
     "output_type": "stream",
     "text": [
      "Conjunto de cadenas\n",
      "{'🍕', '🌭', '🍔', '🍟'}\n",
      "<class 'set'>\n"
     ]
    }
   ],
   "source": [
    "print (\"Conjunto de cadenas\")\n",
    "conjunto = {'🍕','🍔','🍟','🌭'}\n",
    "print(conjunto)\n",
    "print(type(conjunto))"
   ]
  },
  {
   "cell_type": "markdown",
   "metadata": {},
   "source": [
    "#### conjunto mixto"
   ]
  },
  {
   "cell_type": "code",
   "execution_count": 11,
   "metadata": {},
   "outputs": [
    {
     "name": "stdout",
     "output_type": "stream",
     "text": [
      "Conjunto mixto\n",
      "{1, '☕', 3.14}\n",
      "<class 'set'>\n"
     ]
    }
   ],
   "source": [
    "print (\"Conjunto mixto\")\n",
    "conjunto = {1, True, 3.14, '☕'}\n",
    "print(conjunto)\n",
    "print(type(conjunto))"
   ]
  },
  {
   "cell_type": "markdown",
   "metadata": {},
   "source": [
    "#### conjunto vacio"
   ]
  },
  {
   "cell_type": "code",
   "execution_count": 12,
   "metadata": {},
   "outputs": [
    {
     "name": "stdout",
     "output_type": "stream",
     "text": [
      "Conjunto vacío\n",
      "set()\n",
      "<class 'set'>\n"
     ]
    }
   ],
   "source": [
    "print (\"Conjunto vacío\")\n",
    "conjunto = set()\n",
    "print(conjunto)\n",
    "print(type(conjunto))"
   ]
  },
  {
   "cell_type": "markdown",
   "metadata": {},
   "source": [
    "#### conjunto aparitir de una cadena"
   ]
  },
  {
   "cell_type": "code",
   "execution_count": 13,
   "metadata": {},
   "outputs": [
    {
     "name": "stdout",
     "output_type": "stream",
     "text": [
      "Conjunto a partir de la cadena\n",
      "{'a', ' ', 'M', 'H', 'd', 'l', 'n', 'o', 'u'}\n",
      "<class 'set'>\n"
     ]
    }
   ],
   "source": [
    "print (\"Conjunto a partir de la cadena\")\n",
    "cadena = 'Hola Mundo'\n",
    "conjunto = set(cadena)\n",
    "print(conjunto)\n",
    "print(type(conjunto))"
   ]
  },
  {
   "cell_type": "markdown",
   "metadata": {},
   "source": [
    "#### conjunto aparatir de una tupla\n"
   ]
  },
  {
   "cell_type": "code",
   "execution_count": 14,
   "metadata": {},
   "outputs": [
    {
     "name": "stdout",
     "output_type": "stream",
     "text": [
      "Conjunto a partir de una tupla\n",
      "{1, 2, 3, 4, 5}\n",
      "<class 'set'>\n"
     ]
    }
   ],
   "source": [
    "print (\"Conjunto a partir de una tupla\")\n",
    "tupla = (1, 2, 3, 4, 5, 5)\n",
    "conjunto = set(tupla)\n",
    "print(conjunto)\n",
    "print(type(conjunto))"
   ]
  },
  {
   "cell_type": "markdown",
   "metadata": {},
   "source": [
    "#### conjunto apartir de una lista\n"
   ]
  },
  {
   "cell_type": "code",
   "execution_count": 15,
   "metadata": {},
   "outputs": [
    {
     "name": "stdout",
     "output_type": "stream",
     "text": [
      "Conjunto a partir de una lista\n",
      "{False, True}\n",
      "<class 'set'>\n"
     ]
    }
   ],
   "source": [
    "print (\"Conjunto a partir de una lista\")\n",
    "lista = [True, False, 0, 1]\n",
    "conjunto = set(lista)\n",
    "print(conjunto)\n",
    "print(type(conjunto))"
   ]
  },
  {
   "cell_type": "markdown",
   "metadata": {},
   "source": [
    "#### conjunto por compresncion"
   ]
  },
  {
   "cell_type": "code",
   "execution_count": 16,
   "metadata": {},
   "outputs": [
    {
     "name": "stdout",
     "output_type": "stream",
     "text": [
      "Conjunto por comprensión\n",
      "{'🍕', '🍔', '🍟'}\n",
      "<class 'set'>\n"
     ]
    }
   ],
   "source": [
    "print (\"Conjunto por comprensión\")\n",
    "conjunto = {x for x in '🍕🍔🍟🍕🍔🍟🍔🍟'}\n",
    "print(conjunto)\n",
    "print(type(conjunto))"
   ]
  },
  {
   "cell_type": "markdown",
   "metadata": {},
   "source": [
    "---\n",
    "### Indexaccion y Slicing\n",
    "> los conjuntos **no soportan** nada de indexacion ni slicing"
   ]
  },
  {
   "cell_type": "markdown",
   "metadata": {},
   "source": [
    "---\n",
    "### Metodos de los conjuntos\n",
    "### metodos de adicion: add y update\n",
    "#### add(valor), solo recive uno"
   ]
  },
  {
   "cell_type": "code",
   "execution_count": 1,
   "metadata": {},
   "outputs": [
    {
     "name": "stdout",
     "output_type": "stream",
     "text": [
      "Método add()\n",
      "{'🍔', '🌭', '🍟', '🍕'}\n",
      "{'🍔', '🌭', '🍟', '🍕', '🥗'}\n"
     ]
    }
   ],
   "source": [
    "print (\"Método add()\")\n",
    "conjunto = {'🍕','🍔','🍟','🌭'}\n",
    "print (conjunto)\n",
    "conjunto.add('🥗')\n",
    "print(conjunto) "
   ]
  },
  {
   "cell_type": "markdown",
   "metadata": {},
   "source": [
    "#### update(valor), recibe una secuencia"
   ]
  },
  {
   "cell_type": "code",
   "execution_count": 2,
   "metadata": {},
   "outputs": [
    {
     "name": "stdout",
     "output_type": "stream",
     "text": [
      "Método update()\n",
      "{'🍔', '🌭', '🍟', '🍕'}\n",
      "{'🍔', '🌭', '🍟', '🍕', '🥤', '🍦'}\n",
      "{'🍪', '🍔', '🌭', '🍟', '🍩', '🍕', '🥤', '🍦'}\n",
      "{'🍪', '🍫', '🍔', '🌭', '🍟', '🍬', '🍩', '🍕', '🥤', '🍦'}\n",
      "{'🍪', '🍫', '🍮', '🍭', '🍔', '🌭', '🍟', '🍬', '🍩', '🍕', '🥤', '🍦'}\n"
     ]
    }
   ],
   "source": [
    "print (\"Método update()\")\n",
    "conjunto = {'🍕','🍔','🍟','🌭'}\n",
    "print (conjunto)\n",
    "conjunto.update(['🥤','🍦'])\n",
    "print(conjunto) \n",
    "conjunto.update('🍩🍪')\n",
    "print(conjunto) \n",
    "conjunto.update(('🍫','🍬'))\n",
    "print(conjunto)\n",
    "conjunto.update({'🍭','🍮'})\n",
    "print(conjunto)"
   ]
  },
  {
   "cell_type": "markdown",
   "metadata": {},
   "source": [
    "#### metodo de eliminacion: remove, discard, pop, clear.\n",
    "#### remove(valor):"
   ]
  },
  {
   "cell_type": "code",
   "execution_count": 3,
   "metadata": {},
   "outputs": [
    {
     "name": "stdout",
     "output_type": "stream",
     "text": [
      "Método remove()\n",
      "{'🍔', '🌭', '🍟', '🍕'}\n",
      "{'🌭', '🍟', '🍕'}\n"
     ]
    }
   ],
   "source": [
    "print (\"Método remove()\")\n",
    "conjunto = {'🍕','🍔','🍟','🌭'} \n",
    "print (conjunto)\n",
    "conjunto.remove('🍔')\n",
    "print(conjunto)\n",
    "# conjunto.remove('🍔')\n",
    "# print(conjunto)\n",
    "# Key Error: '🍔'"
   ]
  },
  {
   "cell_type": "markdown",
   "metadata": {},
   "source": [
    "#### discard(valor):"
   ]
  },
  {
   "cell_type": "code",
   "execution_count": 6,
   "metadata": {},
   "outputs": [
    {
     "name": "stdout",
     "output_type": "stream",
     "text": [
      "Método discard()\n",
      "{'🍔', '🌭', '🍟', '🍕'}\n",
      "{'🌭', '🍟', '🍕'}\n"
     ]
    }
   ],
   "source": [
    "print (\"Método discard()\")\n",
    "conjunto = {'🍕','🍔','🍟','🌭'}\n",
    "print (conjunto)\n",
    "conjunto.discard('🍔')\n",
    "print(conjunto)"
   ]
  },
  {
   "cell_type": "markdown",
   "metadata": {},
   "source": [
    "#### pop():"
   ]
  },
  {
   "cell_type": "code",
   "execution_count": 7,
   "metadata": {},
   "outputs": [
    {
     "name": "stdout",
     "output_type": "stream",
     "text": [
      "Método pop()\n",
      "{'🍔', '🌭', '🍟', '🍕', '🥤', '🍦'}\n",
      "🍔\n",
      "{'🌭', '🍟', '🍕', '🥤', '🍦'}\n",
      "🌭\n",
      "{'🍟', '🍕', '🥤', '🍦'}\n"
     ]
    }
   ],
   "source": [
    "print (\"Método pop()\")\n",
    "conjunto = {'🍕','🍔','🍟','🌭', '🥤','🍦'}\n",
    "print (conjunto)\n",
    "print(conjunto.pop())\n",
    "print(conjunto)\n",
    "print(conjunto.pop())\n",
    "print(conjunto)\n",
    "# pop(), elimina un elemento aleatorio y lo retorna."
   ]
  },
  {
   "cell_type": "markdown",
   "metadata": {},
   "source": [
    "#### clear():"
   ]
  },
  {
   "cell_type": "code",
   "execution_count": 8,
   "metadata": {},
   "outputs": [
    {
     "name": "stdout",
     "output_type": "stream",
     "text": [
      "Método clear()\n",
      "{'🍔', '🌭', '🍟', '🍕'}\n",
      "set()\n"
     ]
    }
   ],
   "source": [
    "print (\"Método clear()\")\n",
    "conjunto = {'🍕','🍔','🍟','🌭'}\n",
    "print (conjunto)\n",
    "conjunto.clear()\n",
    "print(conjunto)\n",
    "# elimina todo."
   ]
  },
  {
   "cell_type": "markdown",
   "metadata": {},
   "source": [
    "### Metodos de operaciones con conjuntos:\n",
    "- union.\n",
    "- intersection.\n",
    "- diffrerence.\n",
    "- symetric_diffrerence.\n",
    "#### unicion(conjunto):"
   ]
  },
  {
   "cell_type": "code",
   "execution_count": 9,
   "metadata": {},
   "outputs": [
    {
     "name": "stdout",
     "output_type": "stream",
     "text": [
      "Método union()\n",
      "{'🍔', '🍟', '🥤'} {'🍕', '🥤', '🍨'}\n",
      "{'🍔', '🍟', '🍨', '🍕', '🥤'}\n"
     ]
    }
   ],
   "source": [
    "print (\"Método union()\")\n",
    "conjunto1 = {'🍔','🍟', '🥤'}\n",
    "conjunto2 = {'🍕','🍨','🥤'}\n",
    "print (conjunto1, conjunto2)\n",
    "union = conjunto1.union(conjunto2)\n",
    "print(union)"
   ]
  },
  {
   "cell_type": "markdown",
   "metadata": {},
   "source": [
    "#### intersection(conjunto):"
   ]
  },
  {
   "cell_type": "code",
   "execution_count": 10,
   "metadata": {},
   "outputs": [
    {
     "name": "stdout",
     "output_type": "stream",
     "text": [
      "Método intersection()\n",
      "{'🍔', '🍟', '🥤'} {'🍕', '🥤', '🍨'}\n",
      "{'🥤'}\n"
     ]
    }
   ],
   "source": [
    "# que contiene los elementos que estan en ambos conjuntos.\n",
    "print (\"Método intersection()\")\n",
    "conjunto1 = {'🍔','🍟', '🥤'}\n",
    "conjunto2 = {'🍕','🍨','🥤'}\n",
    "print (conjunto1, conjunto2)\n",
    "interseccion = conjunto1.intersection(conjunto2)\n",
    "print(interseccion)"
   ]
  },
  {
   "cell_type": "markdown",
   "metadata": {},
   "source": [
    "#### difference(conjunto):"
   ]
  },
  {
   "cell_type": "code",
   "execution_count": 11,
   "metadata": {},
   "outputs": [
    {
     "name": "stdout",
     "output_type": "stream",
     "text": [
      "Método difference()\n",
      "1: {'🍔', '🍟', '🥤'} 2: {'🍕', '🥤', '🍨'}\n",
      "1 y 2: {'🍔', '🍟'}\n",
      "2 y 1: {'🍕', '🍨'}\n"
     ]
    }
   ],
   "source": [
    "# devuelve la diferencia entre ambos conjuntos.\n",
    "print (\"Método difference()\")\n",
    "conjunto1 = {'🍔','🍟', '🥤'}\n",
    "conjunto2 = {'🍕','🍨','🥤'}\n",
    "print (\"1:\",conjunto1, \"2:\",conjunto2)\n",
    "diferencia = conjunto1.difference(conjunto2)\n",
    "print(\"1 y 2:\",diferencia)\n",
    "diferencia = conjunto2.difference(conjunto1)\n",
    "print(\"2 y 1:\",diferencia)"
   ]
  },
  {
   "cell_type": "markdown",
   "metadata": {},
   "source": [
    "#### symetric_difference(conjunto):"
   ]
  },
  {
   "cell_type": "code",
   "execution_count": 12,
   "metadata": {},
   "outputs": [
    {
     "name": "stdout",
     "output_type": "stream",
     "text": [
      "Método symmetric_difference()\n",
      "{'🍔', '🍟', '🥤'} {'🍕', '🥤', '🍨'}\n",
      "{'🍨', '🍔', '🍟', '🍕'}\n"
     ]
    }
   ],
   "source": [
    "# retorna diferencia simetrica.\n",
    "print (\"Método symmetric_difference()\")\n",
    "conjunto1 = {'🍔','🍟', '🥤'}\n",
    "conjunto2 = {'🍕','🍨','🥤'}\n",
    "print (conjunto1, conjunto2)\n",
    "diferencia_simetrica = conjunto1.symmetric_difference(conjunto2)\n",
    "print(diferencia_simetrica)"
   ]
  },
  {
   "cell_type": "markdown",
   "metadata": {},
   "source": [
    "### Metodos de asignacion con operaciones:"
   ]
  }
 ],
 "metadata": {
  "kernelspec": {
   "display_name": ".venv",
   "language": "python",
   "name": "python3"
  },
  "language_info": {
   "codemirror_mode": {
    "name": "ipython",
    "version": 3
   },
   "file_extension": ".py",
   "mimetype": "text/x-python",
   "name": "python",
   "nbconvert_exporter": "python",
   "pygments_lexer": "ipython3",
   "version": "3.12.3"
  }
 },
 "nbformat": 4,
 "nbformat_minor": 2
}
